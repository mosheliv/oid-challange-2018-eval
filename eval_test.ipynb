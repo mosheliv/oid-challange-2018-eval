{
  "nbformat": 4,
  "nbformat_minor": 0,
  "metadata": {
    "colab": {
      "name": "eval test.ipynb",
      "version": "0.3.2",
      "views": {},
      "default_view": {},
      "provenance": []
    },
    "kernelspec": {
      "name": "python2",
      "display_name": "Python 2"
    }
  },
  "cells": [
    {
      "metadata": {
        "id": "fe8W-xaTNm_l",
        "colab_type": "code",
        "colab": {
          "autoexec": {
            "startup": false,
            "wait_interval": 0
          },
          "base_uri": "https://localhost:8080/",
          "height": 141
        },
        "outputId": "da47d386-e377-4f5c-b788-df539b98d31c",
        "executionInfo": {
          "status": "ok",
          "timestamp": 1531827223040,
          "user_tz": -720,
          "elapsed": 19647,
          "user": {
            "displayName": "Moshe Livne",
            "photoUrl": "//lh6.googleusercontent.com/-7YT1shjfTGo/AAAAAAAAAAI/AAAAAAAAnNQ/arLE1B4p6C0/s50-c-k-no/photo.jpg",
            "userId": "103126228582735797860"
          }
        }
      },
      "cell_type": "code",
      "source": [
        "!git clone https://github.com/tensorflow/models.git"
      ],
      "execution_count": 15,
      "outputs": [
        {
          "output_type": "stream",
          "text": [
            "Cloning into 'models'...\n",
            "remote: Counting objects: 19600, done.\u001b[K\n",
            "remote: Compressing objects: 100% (3/3), done.\u001b[K\n",
            "remote: Total 19600 (delta 0), reused 0 (delta 0), pack-reused 19597\u001b[K\n",
            "Receiving objects: 100% (19600/19600), 471.31 MiB | 41.19 MiB/s, done.\n",
            "Resolving deltas: 100% (11521/11521), done.\n",
            "Checking out files: 100% (2966/2966), done.\n"
          ],
          "name": "stdout"
        }
      ]
    },
    {
      "metadata": {
        "id": "sriYUrj-OD_1",
        "colab_type": "code",
        "colab": {
          "autoexec": {
            "startup": false,
            "wait_interval": 0
          },
          "base_uri": "https://localhost:8080/",
          "height": 34
        },
        "outputId": "49521487-21f4-44de-a25e-4df7335a7cf2",
        "executionInfo": {
          "status": "ok",
          "timestamp": 1531827223886,
          "user_tz": -720,
          "elapsed": 789,
          "user": {
            "displayName": "Moshe Livne",
            "photoUrl": "//lh6.googleusercontent.com/-7YT1shjfTGo/AAAAAAAAAAI/AAAAAAAAnNQ/arLE1B4p6C0/s50-c-k-no/photo.jpg",
            "userId": "103126228582735797860"
          }
        }
      },
      "cell_type": "code",
      "source": [
        "cd models/research/"
      ],
      "execution_count": 16,
      "outputs": [
        {
          "output_type": "stream",
          "text": [
            "/content/models/research\n"
          ],
          "name": "stdout"
        }
      ]
    },
    {
      "metadata": {
        "id": "XwW4luLMOM4I",
        "colab_type": "code",
        "colab": {
          "autoexec": {
            "startup": false,
            "wait_interval": 0
          },
          "base_uri": "https://localhost:8080/",
          "height": 605
        },
        "outputId": "db387dd7-c674-4049-8f5e-0bddf76a7b80",
        "executionInfo": {
          "status": "ok",
          "timestamp": 1531827230584,
          "user_tz": -720,
          "elapsed": 6631,
          "user": {
            "displayName": "Moshe Livne",
            "photoUrl": "//lh6.googleusercontent.com/-7YT1shjfTGo/AAAAAAAAAAI/AAAAAAAAnNQ/arLE1B4p6C0/s50-c-k-no/photo.jpg",
            "userId": "103126228582735797860"
          }
        }
      },
      "cell_type": "code",
      "source": [
        "!apt install protobuf-compiler"
      ],
      "execution_count": 17,
      "outputs": [
        {
          "output_type": "stream",
          "text": [
            "Reading package lists... Done\n",
            "Building dependency tree       \n",
            "Reading state information... Done\n",
            "The following additional packages will be installed:\n",
            "  libprotobuf10 libprotoc10\n",
            "The following NEW packages will be installed:\n",
            "  libprotobuf10 libprotoc10 protobuf-compiler\n",
            "0 upgraded, 3 newly installed, 0 to remove and 7 not upgraded.\n",
            "Need to get 1,239 kB of archives.\n",
            "After this operation, 4,935 kB of additional disk space will be used.\n",
            "Get:1 http://archive.ubuntu.com/ubuntu artful/main amd64 libprotobuf10 amd64 3.0.0-9ubuntu5 [650 kB]\n",
            "Get:2 http://archive.ubuntu.com/ubuntu artful/main amd64 libprotoc10 amd64 3.0.0-9ubuntu5 [565 kB]\n",
            "Get:3 http://archive.ubuntu.com/ubuntu artful/main amd64 protobuf-compiler amd64 3.0.0-9ubuntu5 [24.5 kB]\n",
            "Fetched 1,239 kB in 1s (901 kB/s)\n",
            "\n",
            "\u001b7\u001b[0;23r\u001b8\u001b[1ASelecting previously unselected package libprotobuf10:amd64.\n",
            "(Reading database ... 18396 files and directories currently installed.)\n",
            "Preparing to unpack .../libprotobuf10_3.0.0-9ubuntu5_amd64.deb ...\n",
            "\u001b7\u001b[24;0f\u001b[42m\u001b[30mProgress: [  0%]\u001b[49m\u001b[39m [..........................................................] \u001b8\u001b7\u001b[24;0f\u001b[42m\u001b[30mProgress: [  6%]\u001b[49m\u001b[39m [###.......................................................] \u001b8Unpacking libprotobuf10:amd64 (3.0.0-9ubuntu5) ...\n",
            "\u001b7\u001b[24;0f\u001b[42m\u001b[30mProgress: [ 12%]\u001b[49m\u001b[39m [#######...................................................] \u001b8\u001b7\u001b[24;0f\u001b[42m\u001b[30mProgress: [ 18%]\u001b[49m\u001b[39m [##########................................................] \u001b8Selecting previously unselected package libprotoc10:amd64.\n",
            "Preparing to unpack .../libprotoc10_3.0.0-9ubuntu5_amd64.deb ...\n",
            "\u001b7\u001b[24;0f\u001b[42m\u001b[30mProgress: [ 25%]\u001b[49m\u001b[39m [##############............................................] \u001b8Unpacking libprotoc10:amd64 (3.0.0-9ubuntu5) ...\n",
            "\u001b7\u001b[24;0f\u001b[42m\u001b[30mProgress: [ 31%]\u001b[49m\u001b[39m [##################........................................] \u001b8\u001b7\u001b[24;0f\u001b[42m\u001b[30mProgress: [ 37%]\u001b[49m\u001b[39m [#####################.....................................] \u001b8Selecting previously unselected package protobuf-compiler.\n",
            "Preparing to unpack .../protobuf-compiler_3.0.0-9ubuntu5_amd64.deb ...\n",
            "\u001b7\u001b[24;0f\u001b[42m\u001b[30mProgress: [ 43%]\u001b[49m\u001b[39m [#########################.................................] \u001b8Unpacking protobuf-compiler (3.0.0-9ubuntu5) ...\n",
            "\u001b7\u001b[24;0f\u001b[42m\u001b[30mProgress: [ 50%]\u001b[49m\u001b[39m [#############################.............................] \u001b8\u001b7\u001b[24;0f\u001b[42m\u001b[30mProgress: [ 56%]\u001b[49m\u001b[39m [################################..........................] \u001b8Setting up libprotobuf10:amd64 (3.0.0-9ubuntu5) ...\n",
            "\u001b7\u001b[24;0f\u001b[42m\u001b[30mProgress: [ 62%]\u001b[49m\u001b[39m [####################################......................] \u001b8\u001b7\u001b[24;0f\u001b[42m\u001b[30mProgress: [ 68%]\u001b[49m\u001b[39m [#######################################...................] \u001b8Processing triggers for libc-bin (2.26-0ubuntu2.1) ...\n",
            "Setting up libprotoc10:amd64 (3.0.0-9ubuntu5) ...\n",
            "\u001b7\u001b[24;0f\u001b[42m\u001b[30mProgress: [ 75%]\u001b[49m\u001b[39m [###########################################...............] \u001b8\u001b7\u001b[24;0f\u001b[42m\u001b[30mProgress: [ 81%]\u001b[49m\u001b[39m [###############################################...........] \u001b8Setting up protobuf-compiler (3.0.0-9ubuntu5) ...\n",
            "\u001b7\u001b[24;0f\u001b[42m\u001b[30mProgress: [ 87%]\u001b[49m\u001b[39m [##################################################........] \u001b8\u001b7\u001b[24;0f\u001b[42m\u001b[30mProgress: [ 93%]\u001b[49m\u001b[39m [######################################################....] \u001b8Processing triggers for libc-bin (2.26-0ubuntu2.1) ...\n",
            "\n",
            "\u001b7\u001b[0;24r\u001b8\u001b[1A\u001b[J"
          ],
          "name": "stdout"
        }
      ]
    },
    {
      "metadata": {
        "id": "d-4p0MSCOb86",
        "colab_type": "code",
        "colab": {
          "autoexec": {
            "startup": false,
            "wait_interval": 0
          }
        }
      },
      "cell_type": "code",
      "source": [
        "!protoc object_detection/protos/*.proto --python_out=."
      ],
      "execution_count": 0,
      "outputs": []
    },
    {
      "metadata": {
        "id": "HGEPQojiPqcp",
        "colab_type": "code",
        "colab": {
          "autoexec": {
            "startup": false,
            "wait_interval": 0
          },
          "base_uri": "https://localhost:8080/",
          "height": 105
        },
        "outputId": "4a9d1d46-cd37-4ba3-d4b0-151dead0209f",
        "executionInfo": {
          "status": "ok",
          "timestamp": 1531827243024,
          "user_tz": -720,
          "elapsed": 10437,
          "user": {
            "displayName": "Moshe Livne",
            "photoUrl": "//lh6.googleusercontent.com/-7YT1shjfTGo/AAAAAAAAAAI/AAAAAAAAnNQ/arLE1B4p6C0/s50-c-k-no/photo.jpg",
            "userId": "103126228582735797860"
          }
        }
      },
      "cell_type": "code",
      "source": [
        "!PYTHONPATH=$PYTHONPATH:`pwd`:`pwd`/slim python object_detection/builders/model_builder_test.py"
      ],
      "execution_count": 19,
      "outputs": [
        {
          "output_type": "stream",
          "text": [
            "..................\n",
            "----------------------------------------------------------------------\n",
            "Ran 18 tests in 0.082s\n",
            "\n",
            "OK\n"
          ],
          "name": "stdout"
        }
      ]
    },
    {
      "metadata": {
        "id": "x6YHdBOh71CS",
        "colab_type": "text"
      },
      "cell_type": "markdown",
      "source": [
        "# starting the evaluation"
      ]
    },
    {
      "metadata": {
        "id": "DvogPVaE8Wfz",
        "colab_type": "text"
      },
      "cell_type": "markdown",
      "source": [
        "## step 1 and 2"
      ]
    },
    {
      "metadata": {
        "id": "BtfwO3eE7yu7",
        "colab_type": "code",
        "colab": {
          "autoexec": {
            "startup": false,
            "wait_interval": 0
          },
          "base_uri": "https://localhost:8080/",
          "height": 603
        },
        "outputId": "35ea49f7-2863-4972-986a-92312daf428e",
        "executionInfo": {
          "status": "ok",
          "timestamp": 1531827274086,
          "user_tz": -720,
          "elapsed": 12371,
          "user": {
            "displayName": "Moshe Livne",
            "photoUrl": "//lh6.googleusercontent.com/-7YT1shjfTGo/AAAAAAAAAAI/AAAAAAAAnNQ/arLE1B4p6C0/s50-c-k-no/photo.jpg",
            "userId": "103126228582735797860"
          }
        }
      },
      "cell_type": "code",
      "source": [
        "!wget https://storage.googleapis.com/openimages/challenge_2018/bbox_labels_500_hierarchy.json\n",
        "!wget https://storage.googleapis.com/openimages/challenge_2018/train/challenge-2018-train-annotations-bbox.csv\n",
        "!wget https://storage.googleapis.com/openimages/challenge_2018/train/challenge-2018-train-annotations-human-imagelabels.csv"
      ],
      "execution_count": 20,
      "outputs": [
        {
          "output_type": "stream",
          "text": [
            "--2018-07-17 11:34:22--  https://storage.googleapis.com/openimages/challenge_2018/bbox_labels_500_hierarchy.json\r\n",
            "Resolving storage.googleapis.com (storage.googleapis.com)... 74.125.197.128, 2607:f8b0:400e:c03::80\r\n",
            "Connecting to storage.googleapis.com (storage.googleapis.com)|74.125.197.128|:443... connected.\r\n",
            "HTTP request sent, awaiting response... 200 OK\r\n",
            "Length: 44428 (43K) [application/json]\r\n",
            "Saving to: ‘bbox_labels_500_hierarchy.json’\r\n",
            "\r\n",
            "\r          bbox_labe   0%[                    ]       0  --.-KB/s               \rbbox_labels_500_hie 100%[===================>]  43.39K  --.-KB/s    in 0.001s  \r\n",
            "\r\n",
            "2018-07-17 11:34:22 (68.0 MB/s) - ‘bbox_labels_500_hierarchy.json’ saved [44428/44428]\r\n",
            "\n",
            "--2018-07-17 11:34:23--  https://storage.googleapis.com/openimages/challenge_2018/train/challenge-2018-train-annotations-bbox.csv\n",
            "Resolving storage.googleapis.com (storage.googleapis.com)... 74.125.195.128, 2607:f8b0:400e:c03::80\n",
            "Connecting to storage.googleapis.com (storage.googleapis.com)|74.125.195.128|:443... connected.\n",
            "HTTP request sent, awaiting response... 200 OK\n",
            "Length: 996981249 (951M) [text/csv]\n",
            "Saving to: ‘challenge-2018-train-annotations-bbox.csv’\n",
            "\n",
            "challenge-2018-trai 100%[===================>] 950.79M   141MB/s    in 6.6s    \n",
            "\n",
            "2018-07-17 11:34:30 (144 MB/s) - ‘challenge-2018-train-annotations-bbox.csv’ saved [996981249/996981249]\n",
            "\n",
            "--2018-07-17 11:34:31--  https://storage.googleapis.com/openimages/challenge_2018/train/challenge-2018-train-annotations-human-imagelabels.csv\n",
            "Resolving storage.googleapis.com (storage.googleapis.com)... 74.125.195.128, 2607:f8b0:400e:c09::80\n",
            "Connecting to storage.googleapis.com (storage.googleapis.com)|74.125.195.128|:443... connected.\n",
            "HTTP request sent, awaiting response... 200 OK\n",
            "Length: 240365679 (229M) [text/csv]\n",
            "Saving to: ‘challenge-2018-train-annotations-human-imagelabels.csv’\n",
            "\n",
            "challenge-2018-trai 100%[===================>] 229.23M   150MB/s    in 1.5s    \n",
            "\n",
            "2018-07-17 11:34:33 (150 MB/s) - ‘challenge-2018-train-annotations-human-imagelabels.csv’ saved [240365679/240365679]\n",
            "\n"
          ],
          "name": "stdout"
        }
      ]
    },
    {
      "metadata": {
        "id": "6v1ErQqE8qJx",
        "colab_type": "text"
      },
      "cell_type": "markdown",
      "source": [
        "## step 3"
      ]
    },
    {
      "metadata": {
        "id": "NQT4hq558lkb",
        "colab_type": "code",
        "colab": {
          "autoexec": {
            "startup": false,
            "wait_interval": 0
          }
        }
      },
      "cell_type": "code",
      "source": [
        "trimmed_bbox = \"trimmed_bbox.csv\"\n",
        "trimmed_human = \"trimmed_human.csv\"\n",
        "#to make it simple, lets just do it on one file\n",
        "\n",
        "id_list = ['000002b66c9c498e']\n",
        "bboxinf = open(\"challenge-2018-train-annotations-bbox.csv\", \"r\")\n",
        "bboxoutf = open(trimmed_bbox, \"w+\")\n",
        "for line in bboxinf:\n",
        "    l = line[:-1].split(\",\")\n",
        "    if (l[0] == \"ImageID\") or (l[0] in id_list):\n",
        "         bboxoutf.write(line)\n",
        "bboxoutf.close()\n",
        "bboxinf.close()\n",
        "                \n",
        "humaninf = open(\"challenge-2018-train-annotations-human-imagelabels.csv\", \"r\")\n",
        "humanoutf = open(trimmed_human, \"w+\")\n",
        "for line in humaninf:\n",
        "    l = line[:-1].split(\",\")\n",
        "    if (l[0] == \"ImageID\") or (l[0] in id_list):\n",
        "         humanoutf.write(line)\n",
        "humanoutf.close()\n",
        "humaninf.close()\n"
      ],
      "execution_count": 0,
      "outputs": []
    },
    {
      "metadata": {
        "id": "X5scmoLw_Nub",
        "colab_type": "code",
        "colab": {
          "autoexec": {
            "startup": false,
            "wait_interval": 0
          },
          "base_uri": "https://localhost:8080/",
          "height": 1332
        },
        "outputId": "1f341f32-6b20-4acf-8b4d-f80712da95b5",
        "executionInfo": {
          "status": "ok",
          "timestamp": 1531827804271,
          "user_tz": -720,
          "elapsed": 1747,
          "user": {
            "displayName": "Moshe Livne",
            "photoUrl": "//lh6.googleusercontent.com/-7YT1shjfTGo/AAAAAAAAAAI/AAAAAAAAnNQ/arLE1B4p6C0/s50-c-k-no/photo.jpg",
            "userId": "103126228582735797860"
          }
        }
      },
      "cell_type": "code",
      "source": [
        "!cat trimmed_bbox.csv trimmed_human.csv"
      ],
      "execution_count": 40,
      "outputs": [
        {
          "output_type": "stream",
          "text": [
            "ImageID,Source,LabelName,Confidence,XMin,XMax,YMin,YMax,IsOccluded,IsTruncated,IsGroupOf,IsDepiction,IsInside\r\n",
            "000002b66c9c498e,xclick,/m/01g317,1,0.012500,0.195312,0.148438,0.587500,0,1,0,0,0\r\n",
            "000002b66c9c498e,xclick,/m/01g317,1,0.025000,0.276563,0.714063,0.948438,0,1,0,0,0\r\n",
            "000002b66c9c498e,xclick,/m/01g317,1,0.151562,0.310937,0.198437,0.590625,1,0,0,0,0\r\n",
            "000002b66c9c498e,xclick,/m/01g317,1,0.256250,0.429688,0.651563,0.925000,1,0,0,0,0\r\n",
            "000002b66c9c498e,xclick,/m/01g317,1,0.257812,0.346875,0.235938,0.385938,1,0,0,0,0\r\n",
            "000002b66c9c498e,xclick,/m/01g317,1,0.320312,0.368750,0.260938,0.328125,1,0,0,0,0\r\n",
            "000002b66c9c498e,xclick,/m/01g317,1,0.412500,0.945312,0.120312,0.475000,1,0,1,0,0\r\n",
            "000002b66c9c498e,xclick,/m/04bcr3,1,0.064062,0.492188,0.889063,0.993750,0,0,0,0,0\r\n",
            "000002b66c9c498e,xclick,/m/04bcr3,1,0.301562,0.990625,0.462500,0.595312,0,0,0,0,0\r\n",
            "000002b66c9c498e,xclick,/m/04bcr3,1,0.312500,0.578125,0.351562,0.464063,0,0,0,0,0\r\n",
            "000002b66c9c498e,xclick,/m/0fszt,1,0.523438,0.928125,0.668750,0.981250,0,1,0,1,0\r\n",
            "ImageID,Source,LabelName,Confidence\r\n",
            "000002b66c9c498e,verification,/m/04bcr3,1\r\n",
            "000002b66c9c498e,verification,/m/06z37_,0\r\n",
            "000002b66c9c498e,verification,/m/017ftj,0\r\n",
            "000002b66c9c498e,verification,/m/029tx,0\r\n",
            "000002b66c9c498e,verification,/m/03q5c7,0\r\n",
            "000002b66c9c498e,verification,/m/02xwb,0\r\n",
            "000002b66c9c498e,verification,/m/07yv9,0\r\n",
            "000002b66c9c498e,verification,/m/09ld4,0\r\n",
            "000002b66c9c498e,verification,/m/0fszt,1\r\n",
            "000002b66c9c498e,verification,/m/06bt6,0\r\n",
            "000002b66c9c498e,verification,/m/0ch_cf,0\r\n",
            "000002b66c9c498e,verification,/m/01x3z,0\r\n",
            "000002b66c9c498e,verification,/m/01prls,0\r\n",
            "000002b66c9c498e,verification,/m/0gv1x,0\r\n",
            "000002b66c9c498e,verification,/m/015p6,0\r\n",
            "000002b66c9c498e,verification,/m/0cjs7,0\r\n",
            "000002b66c9c498e,verification,/m/01599,0\r\n",
            "000002b66c9c498e,verification,/m/03xxp,0\r\n",
            "000002b66c9c498e,verification,/m/0cdl1,0\r\n",
            "000002b66c9c498e,verification,/m/08pbxl,0\r\n",
            "000002b66c9c498e,verification,/m/05zsy,0\r\n",
            "000002b66c9c498e,verification,/m/081qc,0\r\n",
            "000002b66c9c498e,verification,/m/0jbk,0\r\n",
            "000002b66c9c498e,verification,/m/0_cp5,0\r\n",
            "000002b66c9c498e,verification,/m/07c52,0\r\n",
            "000002b66c9c498e,verification,/m/0bt9lr,0\r\n",
            "000002b66c9c498e,verification,/m/0167gd,0\r\n",
            "000002b66c9c498e,verification,/m/09728,0\r\n",
            "000002b66c9c498e,verification,/m/0gjbg72,0\r\n",
            "000002b66c9c498e,verification,/m/0l515,0\r\n",
            "000002b66c9c498e,verification,/m/01gkx_,0\r\n",
            "000002b66c9c498e,verification,/m/025nd,0\r\n",
            "000002b66c9c498e,verification,/m/096mb,0\r\n",
            "000002b66c9c498e,verification,/m/0663v,0\r\n",
            "000002b66c9c498e,verification,/m/0d_2m,0\r\n",
            "000002b66c9c498e,verification,/m/07fbm7,0\r\n",
            "000002b66c9c498e,verification,/m/0cyhj_,0\r\n",
            "000002b66c9c498e,verification,/m/01dws,0\r\n",
            "000002b66c9c498e,verification,/m/0h8n6ft,0\r\n",
            "000002b66c9c498e,verification,/m/01j51,0\r\n",
            "000002b66c9c498e,verification,/m/01xyhv,0\r\n",
            "000002b66c9c498e,verification,/m/02zvsm,0\r\n",
            "000002b66c9c498e,verification,/m/014j1m,0\r\n",
            "000002b66c9c498e,verification,/m/09qck,0\r\n",
            "000002b66c9c498e,verification,/m/04dr76w,0\r\n",
            "000002b66c9c498e,verification,/m/03qrc,0\r\n",
            "000002b66c9c498e,verification,/m/0jyfg,0\r\n",
            "000002b66c9c498e,verification,/m/03fp41,0\r\n",
            "000002b66c9c498e,verification,/m/0c06p,0\r\n",
            "000002b66c9c498e,verification,/m/09d5_,0\r\n",
            "000002b66c9c498e,verification,/m/01g317,1\r\n",
            "000002b66c9c498e,verification,/m/09j5n,0\r\n",
            "000002b66c9c498e,verification,/m/0k4j,0\r\n",
            "000002b66c9c498e,verification,/m/01lrl,0\r\n",
            "000002b66c9c498e,verification,/m/015x4r,0\r\n",
            "000002b66c9c498e,verification,/m/07j87,0\r\n",
            "000002b66c9c498e,verification,/m/06m11,0\r\n",
            "000002b66c9c498e,verification,/m/02p5f1q,0\r\n",
            "000002b66c9c498e,verification,/m/01n5jq,0\r\n",
            "000002b66c9c498e,verification,/m/03k3r,0\r\n",
            "000002b66c9c498e,verification,/m/0cxn2,0\r\n"
          ],
          "name": "stdout"
        }
      ]
    },
    {
      "metadata": {
        "id": "twvPrnUs_n1y",
        "colab_type": "text"
      },
      "cell_type": "markdown",
      "source": [
        "## step 4"
      ]
    },
    {
      "metadata": {
        "id": "45N6mZj2_jMD",
        "colab_type": "code",
        "colab": {
          "autoexec": {
            "startup": false,
            "wait_interval": 0
          }
        }
      },
      "cell_type": "code",
      "source": [
        "!PYTHONPATH=$PYTHONPATH:`pwd`:`pwd`/slim \\\n",
        "python object_detection/dataset_tools/oid_hierarchical_labels_expansion.py \\\n",
        "    --json_hierarchy_file=bbox_labels_500_hierarchy.json \\\n",
        "    --input_annotations=trimmed_bbox.csv \\\n",
        "    --output_annotations=trimmed_bbox_expanded.csv \\\n",
        "    --annotation_type=1\n",
        "\n",
        "!PYTHONPATH=$PYTHONPATH:`pwd`:`pwd`/slim \\\n",
        "python object_detection/dataset_tools/oid_hierarchical_labels_expansion.py \\\n",
        "    --json_hierarchy_file=bbox_labels_500_hierarchy.json \\\n",
        "    --input_annotations=trimmed_human.csv \\\n",
        "    --output_annotations=trimmed_human_expanded.csv \\\n",
        "    --annotation_type=2"
      ],
      "execution_count": 0,
      "outputs": []
    },
    {
      "metadata": {
        "id": "2HPdNIIQDdGJ",
        "colab_type": "code",
        "colab": {
          "autoexec": {
            "startup": false,
            "wait_interval": 0
          },
          "base_uri": "https://localhost:8080/",
          "height": 6878
        },
        "outputId": "c38c2827-77d6-42e6-bbe1-afc22a621db4",
        "executionInfo": {
          "status": "ok",
          "timestamp": 1531827859144,
          "user_tz": -720,
          "elapsed": 1819,
          "user": {
            "displayName": "Moshe Livne",
            "photoUrl": "//lh6.googleusercontent.com/-7YT1shjfTGo/AAAAAAAAAAI/AAAAAAAAnNQ/arLE1B4p6C0/s50-c-k-no/photo.jpg",
            "userId": "103126228582735797860"
          }
        }
      },
      "cell_type": "code",
      "source": [
        "!cat trimmed_bbox_expanded.csv trimmed_human_expanded.csv"
      ],
      "execution_count": 42,
      "outputs": [
        {
          "output_type": "stream",
          "text": [
            "ImageID,Source,LabelName,Confidence,XMin,XMax,YMin,YMax,IsOccluded,IsTruncated,IsGroupOf,IsDepiction,IsInside\r\n",
            "000002b66c9c498e,xclick,/m/01g317,1,0.012500,0.195312,0.148438,0.587500,0,1,0,0,0\r\n",
            "ImageID,Source,LabelName,Confidence,XMin,XMax,YMin,YMax,IsOccluded,IsTruncated,IsGroupOf,IsDepiction,IsInside\r\n",
            "000002b66c9c498e,xclick,/m/01g317,1,0.025000,0.276563,0.714063,0.948438,0,1,0,0,0\r\n",
            "ImageID,Source,LabelName,Confidence,XMin,XMax,YMin,YMax,IsOccluded,IsTruncated,IsGroupOf,IsDepiction,IsInside\r\n",
            "000002b66c9c498e,xclick,/m/01g317,1,0.151562,0.310937,0.198437,0.590625,1,0,0,0,0\r\n",
            "ImageID,Source,LabelName,Confidence,XMin,XMax,YMin,YMax,IsOccluded,IsTruncated,IsGroupOf,IsDepiction,IsInside\r\n",
            "000002b66c9c498e,xclick,/m/01g317,1,0.256250,0.429688,0.651563,0.925000,1,0,0,0,0\r\n",
            "ImageID,Source,LabelName,Confidence,XMin,XMax,YMin,YMax,IsOccluded,IsTruncated,IsGroupOf,IsDepiction,IsInside\r\n",
            "000002b66c9c498e,xclick,/m/01g317,1,0.257812,0.346875,0.235938,0.385938,1,0,0,0,0\r\n",
            "ImageID,Source,LabelName,Confidence,XMin,XMax,YMin,YMax,IsOccluded,IsTruncated,IsGroupOf,IsDepiction,IsInside\r\n",
            "000002b66c9c498e,xclick,/m/01g317,1,0.320312,0.368750,0.260938,0.328125,1,0,0,0,0\r\n",
            "ImageID,Source,LabelName,Confidence,XMin,XMax,YMin,YMax,IsOccluded,IsTruncated,IsGroupOf,IsDepiction,IsInside\r\n",
            "000002b66c9c498e,xclick,/m/01g317,1,0.412500,0.945312,0.120312,0.475000,1,0,1,0,0\r\n",
            "ImageID,Source,LabelName,Confidence,XMin,XMax,YMin,YMax,IsOccluded,IsTruncated,IsGroupOf,IsDepiction,IsInside\r\n",
            "000002b66c9c498e,xclick,/m/04bcr3,1,0.064062,0.492188,0.889063,0.993750,0,0,0,0,0\r\n",
            "000002b66c9c498e,xclick,/m/0c_jw,1,0.064062,0.492188,0.889063,0.993750,0,0,0,0,0\r\n",
            "ImageID,Source,LabelName,Confidence,XMin,XMax,YMin,YMax,IsOccluded,IsTruncated,IsGroupOf,IsDepiction,IsInside\r\n",
            "000002b66c9c498e,xclick,/m/04bcr3,1,0.301562,0.990625,0.462500,0.595312,0,0,0,0,0\r\n",
            "000002b66c9c498e,xclick,/m/0c_jw,1,0.301562,0.990625,0.462500,0.595312,0,0,0,0,0\r\n",
            "ImageID,Source,LabelName,Confidence,XMin,XMax,YMin,YMax,IsOccluded,IsTruncated,IsGroupOf,IsDepiction,IsInside\r\n",
            "000002b66c9c498e,xclick,/m/04bcr3,1,0.312500,0.578125,0.351562,0.464063,0,0,0,0,0\r\n",
            "000002b66c9c498e,xclick,/m/0c_jw,1,0.312500,0.578125,0.351562,0.464063,0,0,0,0,0\r\n",
            "ImageID,Source,LabelName,Confidence,XMin,XMax,YMin,YMax,IsOccluded,IsTruncated,IsGroupOf,IsDepiction,IsInside\r\n",
            "000002b66c9c498e,xclick,/m/0fszt,1,0.523438,0.928125,0.668750,0.981250,0,1,0,1,0\r\n",
            "000002b66c9c498e,xclick,/m/0270h,1,0.523438,0.928125,0.668750,0.981250,0,1,0,1,0\r\n",
            "ImageID,Source,LabelName,Confidence\r\n",
            "000002b66c9c498e,verification,/m/04bcr3,1\r\n",
            "000002b66c9c498e,verification,/m/0c_jw,1\r\n",
            "ImageID,Source,LabelName,Confidence\r\n",
            "000002b66c9c498e,verification,/m/06z37_,0\r\n",
            "ImageID,Source,LabelName,Confidence\r\n",
            "000002b66c9c498e,verification,/m/017ftj,0\r\n",
            "ImageID,Source,LabelName,Confidence\r\n",
            "000002b66c9c498e,verification,/m/029tx,0\r\n",
            "ImageID,Source,LabelName,Confidence\r\n",
            "000002b66c9c498e,verification,/m/03q5c7,0\r\n",
            "ImageID,Source,LabelName,Confidence\r\n",
            "000002b66c9c498e,verification,/m/02xwb,0\r\n",
            "000002b66c9c498e,verification,/m/014j1m,0\r\n",
            "000002b66c9c498e,verification,/m/0388q,0\r\n",
            "000002b66c9c498e,verification,/m/043nyj,0\r\n",
            "000002b66c9c498e,verification,/m/061_f,0\r\n",
            "000002b66c9c498e,verification,/m/07fbm7,0\r\n",
            "000002b66c9c498e,verification,/m/07j87,0\r\n",
            "000002b66c9c498e,verification,/m/09k_b,0\r\n",
            "000002b66c9c498e,verification,/m/09qck,0\r\n",
            "000002b66c9c498e,verification,/m/0cyhj_,0\r\n",
            "000002b66c9c498e,verification,/m/0dj6p,0\r\n",
            "000002b66c9c498e,verification,/m/0fldg,0\r\n",
            "000002b66c9c498e,verification,/m/0fp6w,0\r\n",
            "000002b66c9c498e,verification,/m/0hqkz,0\r\n",
            "000002b66c9c498e,verification,/m/0jwn_,0\r\n",
            "000002b66c9c498e,verification,/m/0kpqd,0\r\n",
            "ImageID,Source,LabelName,Confidence\r\n",
            "000002b66c9c498e,verification,/m/07yv9,0\r\n",
            "000002b66c9c498e,verification,/m/01prls,0\r\n",
            "000002b66c9c498e,verification,/m/012n7d,0\r\n",
            "000002b66c9c498e,verification,/m/018p4k,0\r\n",
            "000002b66c9c498e,verification,/m/0199g,0\r\n",
            "000002b66c9c498e,verification,/m/01bjv,0\r\n",
            "000002b66c9c498e,verification,/m/01x3jk,0\r\n",
            "000002b66c9c498e,verification,/m/0323sq,0\r\n",
            "000002b66c9c498e,verification,/m/04_sv,0\r\n",
            "000002b66c9c498e,verification,/m/076bq,0\r\n",
            "000002b66c9c498e,verification,/m/07cmd,0\r\n",
            "000002b66c9c498e,verification,/m/07jdr,0\r\n",
            "000002b66c9c498e,verification,/m/07r04,0\r\n",
            "000002b66c9c498e,verification,/m/0k4j,0\r\n",
            "000002b66c9c498e,verification,/m/01lcw4,0\r\n",
            "000002b66c9c498e,verification,/m/0h2r6,0\r\n",
            "000002b66c9c498e,verification,/m/0pg52,0\r\n",
            "000002b66c9c498e,verification,/m/0qmmr,0\r\n",
            "000002b66c9c498e,verification,/m/01rzcn,0\r\n",
            "000002b66c9c498e,verification,/m/019jd,0\r\n",
            "000002b66c9c498e,verification,/m/01btn,0\r\n",
            "000002b66c9c498e,verification,/m/02068x,0\r\n",
            "000002b66c9c498e,verification,/m/0ph39,0\r\n",
            "000002b66c9c498e,verification,/m/01xs3r,0\r\n",
            "000002b66c9c498e,verification,/m/0k5j,0\r\n",
            "000002b66c9c498e,verification,/m/09ct_,0\r\n",
            "000002b66c9c498e,verification,/m/0cmf2,0\r\n",
            "000002b66c9c498e,verification,/m/09rvcxw,0\r\n",
            "ImageID,Source,LabelName,Confidence\r\n",
            "000002b66c9c498e,verification,/m/09ld4,0\r\n",
            "ImageID,Source,LabelName,Confidence\r\n",
            "000002b66c9c498e,verification,/m/0fszt,1\r\n",
            "000002b66c9c498e,verification,/m/0270h,1\r\n",
            "ImageID,Source,LabelName,Confidence\r\n",
            "000002b66c9c498e,verification,/m/06bt6,0\r\n",
            "000002b66c9c498e,verification,/m/029tx,0\r\n",
            "000002b66c9c498e,verification,/m/04m9y,0\r\n",
            "000002b66c9c498e,verification,/m/078jl,0\r\n",
            "000002b66c9c498e,verification,/m/09dzg,0\r\n",
            "000002b66c9c498e,verification,/m/011k07,0\r\n",
            "000002b66c9c498e,verification,/m/0120dh,0\r\n",
            "000002b66c9c498e,verification,/m/09f_2,0\r\n",
            "000002b66c9c498e,verification,/m/09ld4,0\r\n",
            "ImageID,Source,LabelName,Confidence\r\n",
            "000002b66c9c498e,verification,/m/0ch_cf,0\r\n",
            "000002b66c9c498e,verification,/m/03fj2,0\r\n",
            "000002b66c9c498e,verification,/m/0by6g,0\r\n",
            "000002b66c9c498e,verification,/m/0nybt,0\r\n",
            "ImageID,Source,LabelName,Confidence\r\n",
            "000002b66c9c498e,verification,/m/01x3z,0\r\n",
            "000002b66c9c498e,verification,/m/046dlr,0\r\n",
            "000002b66c9c498e,verification,/m/06_72j,0\r\n",
            "000002b66c9c498e,verification,/m/0h8mzrc,0\r\n",
            "ImageID,Source,LabelName,Confidence\r\n",
            "000002b66c9c498e,verification,/m/01prls,0\r\n",
            "000002b66c9c498e,verification,/m/012n7d,0\r\n",
            "000002b66c9c498e,verification,/m/018p4k,0\r\n",
            "000002b66c9c498e,verification,/m/0199g,0\r\n",
            "000002b66c9c498e,verification,/m/01bjv,0\r\n",
            "000002b66c9c498e,verification,/m/01x3jk,0\r\n",
            "000002b66c9c498e,verification,/m/0323sq,0\r\n",
            "000002b66c9c498e,verification,/m/04_sv,0\r\n",
            "000002b66c9c498e,verification,/m/076bq,0\r\n",
            "000002b66c9c498e,verification,/m/07cmd,0\r\n",
            "000002b66c9c498e,verification,/m/07jdr,0\r\n",
            "000002b66c9c498e,verification,/m/07r04,0\r\n",
            "000002b66c9c498e,verification,/m/0k4j,0\r\n",
            "000002b66c9c498e,verification,/m/01lcw4,0\r\n",
            "000002b66c9c498e,verification,/m/0h2r6,0\r\n",
            "000002b66c9c498e,verification,/m/0pg52,0\r\n",
            "000002b66c9c498e,verification,/m/0qmmr,0\r\n",
            "ImageID,Source,LabelName,Confidence\r\n",
            "000002b66c9c498e,verification,/m/0gv1x,0\r\n",
            "ImageID,Source,LabelName,Confidence\r\n",
            "000002b66c9c498e,verification,/m/015p6,0\r\n",
            "000002b66c9c498e,verification,/m/01dy8n,0\r\n",
            "000002b66c9c498e,verification,/m/01f8m5,0\r\n",
            "000002b66c9c498e,verification,/m/05n4y,0\r\n",
            "000002b66c9c498e,verification,/m/05z6w,0\r\n",
            "000002b66c9c498e,verification,/m/06j2d,0\r\n",
            "000002b66c9c498e,verification,/m/09b5t,0\r\n",
            "000002b66c9c498e,verification,/m/09csl,0\r\n",
            "000002b66c9c498e,verification,/m/09d5_,0\r\n",
            "000002b66c9c498e,verification,/m/09ddx,0\r\n",
            "000002b66c9c498e,verification,/m/0ccs93,0\r\n",
            "000002b66c9c498e,verification,/m/0dbvp,0\r\n",
            "000002b66c9c498e,verification,/m/0dftk,0\r\n",
            "000002b66c9c498e,verification,/m/0f6wt,0\r\n",
            "000002b66c9c498e,verification,/m/0gv1x,0\r\n",
            "000002b66c9c498e,verification,/m/0h23m,0\r\n",
            "000002b66c9c498e,verification,/m/0jly1,0\r\n",
            "ImageID,Source,LabelName,Confidence\r\n",
            "000002b66c9c498e,verification,/m/0cjs7,0\r\n",
            "ImageID,Source,LabelName,Confidence\r\n",
            "000002b66c9c498e,verification,/m/01599,0\r\n",
            "ImageID,Source,LabelName,Confidence\r\n",
            "000002b66c9c498e,verification,/m/03xxp,0\r\n",
            "000002b66c9c498e,verification,/m/0175cv,0\r\n",
            "000002b66c9c498e,verification,/m/019h78,0\r\n",
            "000002b66c9c498e,verification,/m/03hl4l9,0\r\n",
            "000002b66c9c498e,verification,/m/01h8tj,0\r\n",
            "000002b66c9c498e,verification,/m/0cjq5,0\r\n",
            "000002b66c9c498e,verification,/m/0d8zb,0\r\n",
            "000002b66c9c498e,verification,/m/0ll1f78,0\r\n",
            "000002b66c9c498e,verification,/m/0n28_,0\r\n",
            "000002b66c9c498e,verification,/m/03vt0,0\r\n",
            "000002b66c9c498e,verification,/m/01h3n,0\r\n",
            "000002b66c9c498e,verification,/m/020jm,0\r\n",
            "000002b66c9c498e,verification,/m/0gj37,0\r\n",
            "000002b66c9c498e,verification,/m/0_k2,0\r\n",
            "000002b66c9c498e,verification,/m/0d_2m,0\r\n",
            "000002b66c9c498e,verification,/m/0cydv,0\r\n",
            "000002b66c9c498e,verification,/m/0cyf8,0\r\n",
            "000002b66c9c498e,verification,/m/0ft9s,0\r\n",
            "000002b66c9c498e,verification,/m/09kmb,0\r\n",
            "000002b66c9c498e,verification,/m/0_cp5,0\r\n",
            "000002b66c9c498e,verification,/m/0f9_l,0\r\n",
            "ImageID,Source,LabelName,Confidence\r\n",
            "000002b66c9c498e,verification,/m/0cdl1,0\r\n",
            "ImageID,Source,LabelName,Confidence\r\n",
            "000002b66c9c498e,verification,/m/08pbxl,0\r\n",
            "ImageID,Source,LabelName,Confidence\r\n",
            "000002b66c9c498e,verification,/m/05zsy,0\r\n",
            "ImageID,Source,LabelName,Confidence\r\n",
            "000002b66c9c498e,verification,/m/081qc,0\r\n",
            "ImageID,Source,LabelName,Confidence\r\n",
            "000002b66c9c498e,verification,/m/0jbk,0\r\n",
            "000002b66c9c498e,verification,/m/015p6,0\r\n",
            "000002b66c9c498e,verification,/m/01dy8n,0\r\n",
            "000002b66c9c498e,verification,/m/01f8m5,0\r\n",
            "000002b66c9c498e,verification,/m/05n4y,0\r\n",
            "000002b66c9c498e,verification,/m/05z6w,0\r\n",
            "000002b66c9c498e,verification,/m/06j2d,0\r\n",
            "000002b66c9c498e,verification,/m/09b5t,0\r\n",
            "000002b66c9c498e,verification,/m/09csl,0\r\n",
            "000002b66c9c498e,verification,/m/09d5_,0\r\n",
            "000002b66c9c498e,verification,/m/09ddx,0\r\n",
            "000002b66c9c498e,verification,/m/0ccs93,0\r\n",
            "000002b66c9c498e,verification,/m/0dbvp,0\r\n",
            "000002b66c9c498e,verification,/m/0dftk,0\r\n",
            "000002b66c9c498e,verification,/m/0f6wt,0\r\n",
            "000002b66c9c498e,verification,/m/0gv1x,0\r\n",
            "000002b66c9c498e,verification,/m/0h23m,0\r\n",
            "000002b66c9c498e,verification,/m/0jly1,0\r\n",
            "000002b66c9c498e,verification,/m/03xxp,0\r\n",
            "000002b66c9c498e,verification,/m/0175cv,0\r\n",
            "000002b66c9c498e,verification,/m/019h78,0\r\n",
            "000002b66c9c498e,verification,/m/03hl4l9,0\r\n",
            "000002b66c9c498e,verification,/m/01h8tj,0\r\n",
            "000002b66c9c498e,verification,/m/0cjq5,0\r\n",
            "000002b66c9c498e,verification,/m/0d8zb,0\r\n",
            "000002b66c9c498e,verification,/m/0ll1f78,0\r\n",
            "000002b66c9c498e,verification,/m/0n28_,0\r\n",
            "000002b66c9c498e,verification,/m/03vt0,0\r\n",
            "000002b66c9c498e,verification,/m/01h3n,0\r\n",
            "000002b66c9c498e,verification,/m/020jm,0\r\n",
            "000002b66c9c498e,verification,/m/0gj37,0\r\n",
            "000002b66c9c498e,verification,/m/0_k2,0\r\n",
            "000002b66c9c498e,verification,/m/0d_2m,0\r\n",
            "000002b66c9c498e,verification,/m/0cydv,0\r\n",
            "000002b66c9c498e,verification,/m/0cyf8,0\r\n",
            "000002b66c9c498e,verification,/m/0ft9s,0\r\n",
            "000002b66c9c498e,verification,/m/09kmb,0\r\n",
            "000002b66c9c498e,verification,/m/0_cp5,0\r\n",
            "000002b66c9c498e,verification,/m/0f9_l,0\r\n",
            "000002b66c9c498e,verification,/m/01h44,0\r\n",
            "000002b66c9c498e,verification,/m/01lrl,0\r\n",
            "000002b66c9c498e,verification,/m/01dws,0\r\n",
            "000002b66c9c498e,verification,/m/01dxs,0\r\n",
            "000002b66c9c498e,verification,/m/0633h,0\r\n",
            "000002b66c9c498e,verification,/m/0kmg4,0\r\n",
            "000002b66c9c498e,verification,/m/01yrx,0\r\n",
            "000002b66c9c498e,verification,/m/0306r,0\r\n",
            "000002b66c9c498e,verification,/m/0449p,0\r\n",
            "000002b66c9c498e,verification,/m/04g2r,0\r\n",
            "000002b66c9c498e,verification,/m/07dm6,0\r\n",
            "000002b66c9c498e,verification,/m/096mb,0\r\n",
            "000002b66c9c498e,verification,/m/0bt9lr,0\r\n",
            "000002b66c9c498e,verification,/m/0c29q,0\r\n",
            "000002b66c9c498e,verification,/m/0cd4d,0\r\n",
            "000002b66c9c498e,verification,/m/0cn6p,0\r\n",
            "000002b66c9c498e,verification,/m/0dq75,0\r\n",
            "000002b66c9c498e,verification,/m/01x_v,0\r\n",
            "000002b66c9c498e,verification,/m/01xq0k1,0\r\n",
            "000002b66c9c498e,verification,/m/03bk1,0\r\n",
            "000002b66c9c498e,verification,/m/03d443,0\r\n",
            "000002b66c9c498e,verification,/m/03fwl,0\r\n",
            "000002b66c9c498e,verification,/m/03k3r,0\r\n",
            "000002b66c9c498e,verification,/m/03qrc,0\r\n",
            "000002b66c9c498e,verification,/m/04c0y,0\r\n",
            "000002b66c9c498e,verification,/m/04rmv,0\r\n",
            "000002b66c9c498e,verification,/m/068zj,0\r\n",
            "000002b66c9c498e,verification,/m/06mf6,0\r\n",
            "000002b66c9c498e,verification,/m/071qp,0\r\n",
            "000002b66c9c498e,verification,/m/07bgp,0\r\n",
            "000002b66c9c498e,verification,/m/0898b,0\r\n",
            "000002b66c9c498e,verification,/m/08pbxl,0\r\n",
            "000002b66c9c498e,verification,/m/09kx5,0\r\n",
            "000002b66c9c498e,verification,/m/0bwd_0j,0\r\n",
            "000002b66c9c498e,verification,/m/0c568,0\r\n",
            "000002b66c9c498e,verification,/m/0cnyhnx,0\r\n",
            "000002b66c9c498e,verification,/m/0czz2,0\r\n",
            "000002b66c9c498e,verification,/m/0dbzx,0\r\n",
            "000002b66c9c498e,verification,/m/0gd2v,0\r\n",
            "000002b66c9c498e,verification,/m/02hj4,0\r\n",
            "000002b66c9c498e,verification,/m/084zz,0\r\n",
            "000002b66c9c498e,verification,/m/0gd36,0\r\n",
            "000002b66c9c498e,verification,/m/02l8p9,0\r\n",
            "000002b66c9c498e,verification,/m/0pcr,0\r\n",
            "000002b66c9c498e,verification,/m/06bt6,0\r\n",
            "000002b66c9c498e,verification,/m/029tx,0\r\n",
            "000002b66c9c498e,verification,/m/04m9y,0\r\n",
            "000002b66c9c498e,verification,/m/078jl,0\r\n",
            "000002b66c9c498e,verification,/m/09dzg,0\r\n",
            "000002b66c9c498e,verification,/m/011k07,0\r\n",
            "000002b66c9c498e,verification,/m/0120dh,0\r\n",
            "000002b66c9c498e,verification,/m/09f_2,0\r\n",
            "000002b66c9c498e,verification,/m/09ld4,0\r\n",
            "000002b66c9c498e,verification,/m/0ch_cf,0\r\n",
            "000002b66c9c498e,verification,/m/03fj2,0\r\n",
            "000002b66c9c498e,verification,/m/0by6g,0\r\n",
            "000002b66c9c498e,verification,/m/0nybt,0\r\n",
            "000002b66c9c498e,verification,/m/0fbdv,0\r\n",
            "000002b66c9c498e,verification,/m/0_cp5,0\r\n",
            "000002b66c9c498e,verification,/m/0cjq5,0\r\n",
            "000002b66c9c498e,verification,/m/0ll1f78,0\r\n",
            "000002b66c9c498e,verification,/m/0n28_,0\r\n",
            "ImageID,Source,LabelName,Confidence\r\n",
            "000002b66c9c498e,verification,/m/0_cp5,0\r\n",
            "ImageID,Source,LabelName,Confidence\r\n",
            "000002b66c9c498e,verification,/m/07c52,0\r\n",
            "ImageID,Source,LabelName,Confidence\r\n",
            "000002b66c9c498e,verification,/m/0bt9lr,0\r\n",
            "ImageID,Source,LabelName,Confidence\r\n",
            "000002b66c9c498e,verification,/m/0167gd,0\r\n",
            "ImageID,Source,LabelName,Confidence\r\n",
            "000002b66c9c498e,verification,/m/09728,0\r\n",
            "ImageID,Source,LabelName,Confidence\r\n",
            "000002b66c9c498e,verification,/m/0gjbg72,0\r\n",
            "ImageID,Source,LabelName,Confidence\r\n",
            "000002b66c9c498e,verification,/m/0l515,0\r\n",
            "000002b66c9c498e,verification,/m/0cdn1,0\r\n",
            "000002b66c9c498e,verification,/m/06pcq,0\r\n",
            "ImageID,Source,LabelName,Confidence\r\n",
            "000002b66c9c498e,verification,/m/01gkx_,0\r\n",
            "ImageID,Source,LabelName,Confidence\r\n",
            "000002b66c9c498e,verification,/m/025nd,0\r\n",
            "ImageID,Source,LabelName,Confidence\r\n",
            "000002b66c9c498e,verification,/m/096mb,0\r\n",
            "ImageID,Source,LabelName,Confidence\r\n",
            "000002b66c9c498e,verification,/m/0663v,0\r\n",
            "ImageID,Source,LabelName,Confidence\r\n",
            "000002b66c9c498e,verification,/m/0d_2m,0\r\n",
            "000002b66c9c498e,verification,/m/0cydv,0\r\n",
            "000002b66c9c498e,verification,/m/0cyf8,0\r\n",
            "ImageID,Source,LabelName,Confidence\r\n",
            "000002b66c9c498e,verification,/m/07fbm7,0\r\n",
            "ImageID,Source,LabelName,Confidence\r\n",
            "000002b66c9c498e,verification,/m/0cyhj_,0\r\n",
            "ImageID,Source,LabelName,Confidence\r\n",
            "000002b66c9c498e,verification,/m/01dws,0\r\n",
            "000002b66c9c498e,verification,/m/01dxs,0\r\n",
            "000002b66c9c498e,verification,/m/0633h,0\r\n",
            "000002b66c9c498e,verification,/m/0kmg4,0\r\n",
            "ImageID,Source,LabelName,Confidence\r\n",
            "000002b66c9c498e,verification,/m/0h8n6ft,0\r\n",
            "ImageID,Source,LabelName,Confidence\r\n",
            "000002b66c9c498e,verification,/m/01j51,0\r\n",
            "ImageID,Source,LabelName,Confidence\r\n",
            "000002b66c9c498e,verification,/m/01xyhv,0\r\n",
            "ImageID,Source,LabelName,Confidence\r\n",
            "000002b66c9c498e,verification,/m/02zvsm,0\r\n",
            "ImageID,Source,LabelName,Confidence\r\n",
            "000002b66c9c498e,verification,/m/014j1m,0\r\n",
            "ImageID,Source,LabelName,Confidence\r\n",
            "000002b66c9c498e,verification,/m/09qck,0\r\n",
            "ImageID,Source,LabelName,Confidence\r\n",
            "000002b66c9c498e,verification,/m/04dr76w,0\r\n",
            "ImageID,Source,LabelName,Confidence\r\n",
            "000002b66c9c498e,verification,/m/03qrc,0\r\n",
            "ImageID,Source,LabelName,Confidence\r\n",
            "000002b66c9c498e,verification,/m/0jyfg,0\r\n",
            "ImageID,Source,LabelName,Confidence\r\n",
            "000002b66c9c498e,verification,/m/03fp41,0\r\n",
            "ImageID,Source,LabelName,Confidence\r\n",
            "000002b66c9c498e,verification,/m/0c06p,0\r\n",
            "ImageID,Source,LabelName,Confidence\r\n",
            "000002b66c9c498e,verification,/m/09d5_,0\r\n",
            "ImageID,Source,LabelName,Confidence\r\n",
            "000002b66c9c498e,verification,/m/01g317,1\r\n",
            "ImageID,Source,LabelName,Confidence\r\n",
            "000002b66c9c498e,verification,/m/09j5n,0\r\n",
            "000002b66c9c498e,verification,/m/02p3w7d,0\r\n",
            "000002b66c9c498e,verification,/m/01b638,0\r\n",
            "000002b66c9c498e,verification,/m/06k2mb,0\r\n",
            "000002b66c9c498e,verification,/m/03nfch,0\r\n",
            "ImageID,Source,LabelName,Confidence\r\n",
            "000002b66c9c498e,verification,/m/0k4j,0\r\n",
            "000002b66c9c498e,verification,/m/01lcw4,0\r\n",
            "000002b66c9c498e,verification,/m/0h2r6,0\r\n",
            "ImageID,Source,LabelName,Confidence\r\n",
            "000002b66c9c498e,verification,/m/01lrl,0\r\n",
            "000002b66c9c498e,verification,/m/01dws,0\r\n",
            "000002b66c9c498e,verification,/m/01dxs,0\r\n",
            "000002b66c9c498e,verification,/m/0633h,0\r\n",
            "000002b66c9c498e,verification,/m/0kmg4,0\r\n",
            "000002b66c9c498e,verification,/m/01yrx,0\r\n",
            "000002b66c9c498e,verification,/m/0306r,0\r\n",
            "000002b66c9c498e,verification,/m/0449p,0\r\n",
            "000002b66c9c498e,verification,/m/04g2r,0\r\n",
            "000002b66c9c498e,verification,/m/07dm6,0\r\n",
            "000002b66c9c498e,verification,/m/096mb,0\r\n",
            "000002b66c9c498e,verification,/m/0bt9lr,0\r\n",
            "000002b66c9c498e,verification,/m/0c29q,0\r\n",
            "000002b66c9c498e,verification,/m/0cd4d,0\r\n",
            "000002b66c9c498e,verification,/m/0cn6p,0\r\n",
            "000002b66c9c498e,verification,/m/0dq75,0\r\n",
            "ImageID,Source,LabelName,Confidence\r\n",
            "000002b66c9c498e,verification,/m/015x4r,0\r\n",
            "ImageID,Source,LabelName,Confidence\r\n",
            "000002b66c9c498e,verification,/m/07j87,0\r\n",
            "ImageID,Source,LabelName,Confidence\r\n",
            "000002b66c9c498e,verification,/m/06m11,0\r\n",
            "ImageID,Source,LabelName,Confidence\r\n",
            "000002b66c9c498e,verification,/m/02p5f1q,0\r\n",
            "ImageID,Source,LabelName,Confidence\r\n",
            "000002b66c9c498e,verification,/m/01n5jq,0\r\n",
            "ImageID,Source,LabelName,Confidence\r\n",
            "000002b66c9c498e,verification,/m/03k3r,0\r\n",
            "ImageID,Source,LabelName,Confidence\r\n",
            "000002b66c9c498e,verification,/m/0cxn2,0\r\n"
          ],
          "name": "stdout"
        }
      ]
    },
    {
      "metadata": {
        "id": "EBtXgDa6EF13",
        "colab_type": "text"
      },
      "cell_type": "markdown",
      "source": [
        "**lets build a one inference file**"
      ]
    },
    {
      "metadata": {
        "id": "PYDggGTVDmTJ",
        "colab_type": "code",
        "colab": {
          "autoexec": {
            "startup": false,
            "wait_interval": 0
          },
          "base_uri": "https://localhost:8080/",
          "height": 72
        },
        "outputId": "7c72c708-fb12-4de8-bea1-4a8ac6c4543a",
        "executionInfo": {
          "status": "ok",
          "timestamp": 1531828155076,
          "user_tz": -720,
          "elapsed": 3856,
          "user": {
            "displayName": "Moshe Livne",
            "photoUrl": "//lh6.googleusercontent.com/-7YT1shjfTGo/AAAAAAAAAAI/AAAAAAAAnNQ/arLE1B4p6C0/s50-c-k-no/photo.jpg",
            "userId": "103126228582735797860"
          }
        }
      },
      "cell_type": "code",
      "source": [
        "!echo 'ImageId,PredictionString'>pred.csv\n",
        "!echo '000002b66c9c498e.jpg,/m/01g317 0.835124790668 0.079629458487 0.717486381531 0.297217279673 0.953069448471 /m/01g317 0.810999274254 0.142796844244 0.211330935359 0.349550813437 0.597082734108 /m/01g317 0.624230802059 0.236604273319 0.693924605846 0.408676505089 0.936157166958 /m/01g317 0.612353801727 0.0384930968285 0.21103066206 0.301691889763 0.679093658924 /m/01g317 0.603771865368 0.635789453983 0.254240453243 0.800500810146 0.471879065037 /m/01g317 0.568617165089 0.668199241161 0.204862073064 0.87728780508 0.482453346252 '>>pred.csv\n",
        "!cat pred.csv"
      ],
      "execution_count": 43,
      "outputs": [
        {
          "output_type": "stream",
          "text": [
            "ImageId,PredictionString\r\n",
            "000002b66c9c498e.jpg,/m/01g317 0.835124790668 0.079629458487 0.717486381531 0.297217279673 0.953069448471 /m/01g317 0.810999274254 0.142796844244 0.211330935359 0.349550813437 0.597082734108 /m/01g317 0.624230802059 0.236604273319 0.693924605846 0.408676505089 0.936157166958 /m/01g317 0.612353801727 0.0384930968285 0.21103066206 0.301691889763 0.679093658924 /m/01g317 0.603771865368 0.635789453983 0.254240453243 0.800500810146 0.471879065037 /m/01g317 0.568617165089 0.668199241161 0.204862073064 0.87728780508 0.482453346252 \r\n"
          ],
          "name": "stdout"
        }
      ]
    },
    {
      "metadata": {
        "id": "0LW0aMx7EtpN",
        "colab_type": "code",
        "colab": {
          "autoexec": {
            "startup": false,
            "wait_interval": 0
          },
          "base_uri": "https://localhost:8080/",
          "height": 247
        },
        "outputId": "796c3671-62b6-44e9-82c1-bdfb2922c2b7",
        "executionInfo": {
          "status": "ok",
          "timestamp": 1531828314536,
          "user_tz": -720,
          "elapsed": 2865,
          "user": {
            "displayName": "Moshe Livne",
            "photoUrl": "//lh6.googleusercontent.com/-7YT1shjfTGo/AAAAAAAAAAI/AAAAAAAAnNQ/arLE1B4p6C0/s50-c-k-no/photo.jpg",
            "userId": "103126228582735797860"
          }
        }
      },
      "cell_type": "code",
      "source": [
        "!PYTHONPATH=$PYTHONPATH:`pwd`:`pwd`/slim \\\n",
        "python object_detection/metrics/oid_od_challenge_evaluation.py \\\n",
        "    --input_annotations_boxes=trimmed_bbox_expanded.csv \\\n",
        "    --input_annotations_labels=trimmed_human_expanded.csv \\\n",
        "    --input_class_labelmap=object_detection/data/oid_object_detection_challenge_500_label_map.pbtxt \\\n",
        "    --input_predictions=pred.csv \\\n",
        "    --output_metrics=output.csv \\"
      ],
      "execution_count": 46,
      "outputs": [
        {
          "output_type": "stream",
          "text": [
            "Traceback (most recent call last):\r\n",
            "  File \"object_detection/metrics/oid_od_challenge_evaluation.py\", line 128, in <module>\r\n",
            "    main(args)\r\n",
            "  File \"object_detection/metrics/oid_od_challenge_evaluation.py\", line 84, in main\r\n",
            "    image_groundtruth, class_label_map)\r\n",
            "  File \"/content/models/research/object_detection/metrics/oid_od_challenge_evaluation_utils.py\", line 54, in build_groundtruth_boxes_dictionary\r\n",
            "    data_boxes['LabelName'].map(lambda x: class_label_map[x]).as_matrix(),\r\n",
            "  File \"/usr/local/lib/python2.7/dist-packages/pandas/core/series.py\", line 2354, in map\r\n",
            "    new_values = map_f(values, arg)\r\n",
            "  File \"pandas/_libs/src/inference.pyx\", line 1521, in pandas._libs.lib.map_infer\r\n",
            "  File \"/content/models/research/object_detection/metrics/oid_od_challenge_evaluation_utils.py\", line 54, in <lambda>\r\n",
            "    data_boxes['LabelName'].map(lambda x: class_label_map[x]).as_matrix(),\r\n",
            "KeyError: 'LabelName'\r\n"
          ],
          "name": "stdout"
        }
      ]
    }
  ]
}